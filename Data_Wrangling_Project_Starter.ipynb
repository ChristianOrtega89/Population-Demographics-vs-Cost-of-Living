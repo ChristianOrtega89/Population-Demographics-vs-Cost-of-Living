{
 "cells": [
  {
   "cell_type": "markdown",
   "metadata": {
    "id": "GNIwe5N7s0e_"
   },
   "source": [
    "# Real-world Data Wrangling"
   ]
  },
  {
   "cell_type": "markdown",
   "metadata": {
    "id": "_BG63Tpg8ep_"
   },
   "source": [
    "In this project, you will apply the skills you acquired in the course to gather and wrangle real-world data with two datasets of your choice.\n",
    "\n",
    "You will retrieve and extract the data, assess the data programmatically and visually, accross elements of data quality and structure, and implement a cleaning strategy for the data. You will then store the updated data into your selected database/data store, combine the data, and answer a research question with the datasets.\n",
    "\n",
    "Throughout the process, you are expected to:\n",
    "\n",
    "1. Explain your decisions towards methods used for gathering, assessing, cleaning, storing, and answering the research question\n",
    "2. Write code comments so your code is more readable\n",
    "\n",
    "Before you start, install the some of the required packages. "
   ]
  },
  {
   "cell_type": "code",
   "execution_count": 2,
   "metadata": {
    "scrolled": true
   },
   "outputs": [
    {
     "name": "stdout",
     "output_type": "stream",
     "text": [
      "Defaulting to user installation because normal site-packages is not writeable\n",
      "Collecting kaggle==1.6.12\n",
      "  Downloading kaggle-1.6.12.tar.gz (79 kB)\n",
      "\u001b[2K     \u001b[90m━━━━━━━━━━━━━━━━━━━━━━━━━━━━━━━━━━━━━━━\u001b[0m \u001b[32m79.7/79.7 kB\u001b[0m \u001b[31m625.7 kB/s\u001b[0m eta \u001b[36m0:00:00\u001b[0ma \u001b[36m0:00:01\u001b[0m\n",
      "\u001b[?25h  Preparing metadata (setup.py) ... \u001b[?25ldone\n",
      "\u001b[?25hRequirement already satisfied: six>=1.10 in /opt/conda/lib/python3.10/site-packages (from kaggle==1.6.12) (1.16.0)\n",
      "Collecting certifi>=2023.7.22\n",
      "  Downloading certifi-2024.7.4-py3-none-any.whl (162 kB)\n",
      "\u001b[2K     \u001b[90m━━━━━━━━━━━━━━━━━━━━━━━━━━━━━━━━━━━━━━━\u001b[0m \u001b[32m163.0/163.0 kB\u001b[0m \u001b[31m2.8 MB/s\u001b[0m eta \u001b[36m0:00:00\u001b[0ma \u001b[36m0:00:01\u001b[0m\n",
      "\u001b[?25hRequirement already satisfied: python-dateutil in /opt/conda/lib/python3.10/site-packages (from kaggle==1.6.12) (2.9.0.post0)\n",
      "Requirement already satisfied: requests in /opt/conda/lib/python3.10/site-packages (from kaggle==1.6.12) (2.29.0)\n",
      "Requirement already satisfied: tqdm in /opt/conda/lib/python3.10/site-packages (from kaggle==1.6.12) (4.65.0)\n",
      "Collecting python-slugify\n",
      "  Downloading python_slugify-8.0.4-py2.py3-none-any.whl (10 kB)\n",
      "Requirement already satisfied: urllib3 in /opt/conda/lib/python3.10/site-packages (from kaggle==1.6.12) (1.26.15)\n",
      "Requirement already satisfied: bleach in /opt/conda/lib/python3.10/site-packages (from kaggle==1.6.12) (6.1.0)\n",
      "Requirement already satisfied: webencodings in /opt/conda/lib/python3.10/site-packages (from bleach->kaggle==1.6.12) (0.5.1)\n",
      "Collecting text-unidecode>=1.3\n",
      "  Downloading text_unidecode-1.3-py2.py3-none-any.whl (78 kB)\n",
      "\u001b[2K     \u001b[90m━━━━━━━━━━━━━━━━━━━━━━━━━━━━━━━━━━━━━━━━\u001b[0m \u001b[32m78.2/78.2 kB\u001b[0m \u001b[31m8.9 MB/s\u001b[0m eta \u001b[36m0:00:00\u001b[0m\n",
      "\u001b[?25hRequirement already satisfied: idna<4,>=2.5 in /opt/conda/lib/python3.10/site-packages (from requests->kaggle==1.6.12) (3.4)\n",
      "Requirement already satisfied: charset-normalizer<4,>=2 in /opt/conda/lib/python3.10/site-packages (from requests->kaggle==1.6.12) (2.0.4)\n",
      "Building wheels for collected packages: kaggle\n",
      "  Building wheel for kaggle (setup.py) ... \u001b[?25ldone\n",
      "\u001b[?25h  Created wheel for kaggle: filename=kaggle-1.6.12-py3-none-any.whl size=102969 sha256=5ba9eee9d3b0fb469063e00ffad43d6d02c2cecd2facb3a25808f33757fbc9d6\n",
      "  Stored in directory: /home/student/.cache/pip/wheels/1e/0b/7c/50f8e89c3d2f82838dbd7afeddffbb9357003009ada98216c7\n",
      "Successfully built kaggle\n",
      "Installing collected packages: text-unidecode, python-slugify, certifi, kaggle\n",
      "\u001b[33m  WARNING: The script slugify is installed in '/home/student/.local/bin' which is not on PATH.\n",
      "  Consider adding this directory to PATH or, if you prefer to suppress this warning, use --no-warn-script-location.\u001b[0m\u001b[33m\n",
      "\u001b[0m\u001b[33m  WARNING: The script kaggle is installed in '/home/student/.local/bin' which is not on PATH.\n",
      "  Consider adding this directory to PATH or, if you prefer to suppress this warning, use --no-warn-script-location.\u001b[0m\u001b[33m\n",
      "\u001b[0mSuccessfully installed certifi-2024.7.4 kaggle-1.6.12 python-slugify-8.0.4 text-unidecode-1.3\n"
     ]
    }
   ],
   "source": [
    "!python -m pip install kaggle==1.6.12"
   ]
  },
  {
   "cell_type": "code",
   "execution_count": 3,
   "metadata": {
    "scrolled": true
   },
   "outputs": [
    {
     "name": "stdout",
     "output_type": "stream",
     "text": [
      "Collecting ucimlrepo\n",
      "  Downloading ucimlrepo-0.0.7-py3-none-any.whl (8.0 kB)\n",
      "Collecting certifi>=2020.12.5\n",
      "  Using cached certifi-2024.7.4-py3-none-any.whl (162 kB)\n",
      "Collecting pandas>=1.0.0\n",
      "  Downloading pandas-2.2.2-cp310-cp310-manylinux_2_17_x86_64.manylinux2014_x86_64.whl (13.0 MB)\n",
      "\u001b[2K     \u001b[90m━━━━━━━━━━━━━━━━━━━━━━━━━━━━━━━━━━━━━━━━\u001b[0m \u001b[32m13.0/13.0 MB\u001b[0m \u001b[31m58.6 MB/s\u001b[0m eta \u001b[36m0:00:00\u001b[0m00:01\u001b[0m0:01\u001b[0m\n",
      "\u001b[?25hCollecting tzdata>=2022.7\n",
      "  Downloading tzdata-2024.1-py2.py3-none-any.whl (345 kB)\n",
      "\u001b[2K     \u001b[90m━━━━━━━━━━━━━━━━━━━━━━━━━━━━━━━━━━━━━━\u001b[0m \u001b[32m345.4/345.4 kB\u001b[0m \u001b[31m31.0 MB/s\u001b[0m eta \u001b[36m0:00:00\u001b[0m\n",
      "\u001b[?25hCollecting python-dateutil>=2.8.2\n",
      "  Downloading python_dateutil-2.9.0.post0-py2.py3-none-any.whl (229 kB)\n",
      "\u001b[2K     \u001b[90m━━━━━━━━━━━━━━━━━━━━━━━━━━━━━━━━━━━━━━\u001b[0m \u001b[32m229.9/229.9 kB\u001b[0m \u001b[31m25.5 MB/s\u001b[0m eta \u001b[36m0:00:00\u001b[0m\n",
      "\u001b[?25hCollecting numpy>=1.22.4\n",
      "  Downloading numpy-2.0.1-cp310-cp310-manylinux_2_17_x86_64.manylinux2014_x86_64.whl (19.5 MB)\n",
      "\u001b[2K     \u001b[90m━━━━━━━━━━━━━━━━━━━━━━━━━━━━━━━━━━━━━━━━\u001b[0m \u001b[32m19.5/19.5 MB\u001b[0m \u001b[31m58.1 MB/s\u001b[0m eta \u001b[36m0:00:00\u001b[0m00:01\u001b[0m00:01\u001b[0m\n",
      "\u001b[?25hCollecting pytz>=2020.1\n",
      "  Downloading pytz-2024.1-py2.py3-none-any.whl (505 kB)\n",
      "\u001b[2K     \u001b[90m━━━━━━━━━━━━━━━━━━━━━━━━━━━━━━━━━━━━━━\u001b[0m \u001b[32m505.5/505.5 kB\u001b[0m \u001b[31m40.8 MB/s\u001b[0m eta \u001b[36m0:00:00\u001b[0m\n",
      "\u001b[?25hCollecting six>=1.5\n",
      "  Downloading six-1.16.0-py2.py3-none-any.whl (11 kB)\n",
      "Installing collected packages: pytz, tzdata, six, numpy, certifi, python-dateutil, pandas, ucimlrepo\n",
      "\u001b[31mERROR: pip's dependency resolver does not currently take into account all the packages that are installed. This behaviour is the source of the following dependency conflicts.\n",
      "scipy 1.11.2 requires numpy<1.28.0,>=1.21.6, but you have numpy 2.0.1 which is incompatible.\u001b[0m\u001b[31m\n",
      "\u001b[0mSuccessfully installed certifi-2024.7.4 numpy-2.0.1 pandas-2.2.2 python-dateutil-2.9.0.post0 pytz-2024.1 six-1.16.0 tzdata-2024.1 ucimlrepo-0.0.7\n",
      "\u001b[33mWARNING: Target directory /workspace/pytz-2024.1.dist-info already exists. Specify --upgrade to force replacement.\u001b[0m\u001b[33m\n",
      "\u001b[0m\u001b[33mWARNING: Target directory /workspace/numpy-2.0.1.dist-info already exists. Specify --upgrade to force replacement.\u001b[0m\u001b[33m\n",
      "\u001b[0m\u001b[33mWARNING: Target directory /workspace/pandas already exists. Specify --upgrade to force replacement.\u001b[0m\u001b[33m\n",
      "\u001b[0m\u001b[33mWARNING: Target directory /workspace/tzdata-2024.1.dist-info already exists. Specify --upgrade to force replacement.\u001b[0m\u001b[33m\n",
      "\u001b[0m\u001b[33mWARNING: Target directory /workspace/ucimlrepo already exists. Specify --upgrade to force replacement.\u001b[0m\u001b[33m\n",
      "\u001b[0m\u001b[33mWARNING: Target directory /workspace/numpy already exists. Specify --upgrade to force replacement.\u001b[0m\u001b[33m\n",
      "\u001b[0m\u001b[33mWARNING: Target directory /workspace/pytz already exists. Specify --upgrade to force replacement.\u001b[0m\u001b[33m\n",
      "\u001b[0m\u001b[33mWARNING: Target directory /workspace/pandas-2.2.2.dist-info already exists. Specify --upgrade to force replacement.\u001b[0m\u001b[33m\n",
      "\u001b[0m\u001b[33mWARNING: Target directory /workspace/__pycache__ already exists. Specify --upgrade to force replacement.\u001b[0m\u001b[33m\n",
      "\u001b[0m\u001b[33mWARNING: Target directory /workspace/python_dateutil-2.9.0.post0.dist-info already exists. Specify --upgrade to force replacement.\u001b[0m\u001b[33m\n",
      "\u001b[0m\u001b[33mWARNING: Target directory /workspace/ucimlrepo-0.0.7.dist-info already exists. Specify --upgrade to force replacement.\u001b[0m\u001b[33m\n",
      "\u001b[0m\u001b[33mWARNING: Target directory /workspace/six.py already exists. Specify --upgrade to force replacement.\u001b[0m\u001b[33m\n",
      "\u001b[0m\u001b[33mWARNING: Target directory /workspace/certifi-2024.7.4.dist-info already exists. Specify --upgrade to force replacement.\u001b[0m\u001b[33m\n",
      "\u001b[0m\u001b[33mWARNING: Target directory /workspace/numpy.libs already exists. Specify --upgrade to force replacement.\u001b[0m\u001b[33m\n",
      "\u001b[0m\u001b[33mWARNING: Target directory /workspace/certifi already exists. Specify --upgrade to force replacement.\u001b[0m\u001b[33m\n",
      "\u001b[0m\u001b[33mWARNING: Target directory /workspace/six-1.16.0.dist-info already exists. Specify --upgrade to force replacement.\u001b[0m\u001b[33m\n",
      "\u001b[0m\u001b[33mWARNING: Target directory /workspace/dateutil already exists. Specify --upgrade to force replacement.\u001b[0m\u001b[33m\n",
      "\u001b[0m\u001b[33mWARNING: Target directory /workspace/tzdata already exists. Specify --upgrade to force replacement.\u001b[0m\u001b[33m\n",
      "\u001b[0m\u001b[33mWARNING: Target directory /workspace/bin already exists. Specify --upgrade to force replacement.\u001b[0m\u001b[33m\n",
      "\u001b[0m"
     ]
    }
   ],
   "source": [
    "!pip install --target=/workspace ucimlrepo"
   ]
  },
  {
   "cell_type": "markdown",
   "metadata": {},
   "source": [
    "**Note:** Restart the kernel to use updated package(s)."
   ]
  },
  {
   "cell_type": "markdown",
   "metadata": {
    "id": "lDYDkH-Zs7Nn"
   },
   "source": [
    "## 1. Gather data."
   ]
  },
  {
   "cell_type": "markdown",
   "metadata": {
    "id": "LbN7z7rcuqpO"
   },
   "source": [
    "### **1.1.** Problem Statement\n",
    "\n",
    "In this project, I will be exploring how the cost of living in different states relates to the people living there, like their age, race, and the size of the population. To do this, I'll be using two sets of data: one that has information about city demographics, and another that shows how much it costs to live in those cities, along with the average income. I will be aggregating the data by each state to simplify my analysis."
   ]
  },
  {
   "cell_type": "markdown",
   "metadata": {
    "id": "gi6swhjSYqu2"
   },
   "source": [
    "Finding the right datasets can be time-consuming. Here we provide you with a list of websites to start with. But we encourage you to explore more websites and find the data that interests you.\n",
    "\n",
    "* Google Dataset Search https://datasetsearch.research.google.com/\n",
    "* The U.S. Government’s open data https://data.gov/\n",
    "* UCI Machine Learning Repository https://archive.ics.uci.edu/ml/index.php\n"
   ]
  },
  {
   "cell_type": "markdown",
   "metadata": {
    "id": "8AQfBAdUypMm"
   },
   "source": [
    "### **1.2.** Gather at least two datasets using two different data gathering methods\n",
    "\n",
    "List of data gathering methods:\n",
    "\n",
    "- Download data manually\n",
    "- Programmatically downloading files\n",
    "- Gather data by accessing APIs\n",
    "- Gather and extract data from HTML files using BeautifulSoup\n",
    "- Extract data from a SQL database\n",
    "\n",
    "Each dataset must have at least two variables, and have greater than 500 data samples within each dataset.\n",
    "\n",
    "For each dataset, briefly describe why you picked the dataset and the gathering method (2-3 full sentences), including the names and significance of the variables in the dataset. Show your work (e.g., if using an API to download the data, please include a snippet of your code). \n",
    "\n",
    "Load the dataset programmtically into this notebook."
   ]
  },
  {
   "cell_type": "markdown",
   "metadata": {
    "id": "7e6gS0wL1KTu"
   },
   "source": [
    "### Dataset 1\n",
    "\n",
    "I picked this dataset because it provides information about costs of living and the amount of money people make in different US cities. I downloaded the file programmatically to simulate a real world situation where you may be gathering data from an online source. The columns in this dataset show how much families spend on different things, like housing and food, which helps us understand the overall cost of living in different places.\n",
    "\n",
    "Type: CSV File\n",
    "\n",
    "Method: Programmatically downloading files\n",
    "\n",
    "Dataset variables:\n",
    "\n",
    "case_id,\n",
    "state,\n",
    "isMetro,\n",
    "areaname,\n",
    "county,\n",
    "family_member_count,\n",
    "housing_cost,\n",
    "food_cost,\n",
    "transportation_cost,\n",
    "healthcare_cost,\n",
    "other_necessities_cost,\n",
    "childcare_cost,\n",
    "taxes,\n",
    "total_cost,\n",
    "median_family_income"
   ]
  },
  {
   "cell_type": "code",
   "execution_count": 7,
   "metadata": {},
   "outputs": [
    {
     "name": "stdout",
     "output_type": "stream",
     "text": [
      "Failed to download file. Status code: 404\n"
     ]
    }
   ],
   "source": [
    "import requests\n",
    "\n",
    "# This is the Raw URL of the CSV file on GitHub\n",
    "raw_url = 'https://raw.githubusercontent.com/ChristianOrtega89/my_dataset/main/cost_of_living_us.csv?token=GHSAT0AAAAAACWFM6NFI7SFON4Q7JWFX6OWZV6ROTQ'\n",
    "\n",
    "# Downloading the file\n",
    "response = requests.get(raw_url)\n",
    "if response.status_code == 200:\n",
    "    with open('cost_of_living_us.csv', 'wb') as file:\n",
    "        file.write(response.content)\n",
    "    print(\"File downloaded successfully.\")\n",
    "else:\n",
    "    print(f\"Failed to download file. Status code: {response.status_code}\")\n"
   ]
  },
  {
   "cell_type": "code",
   "execution_count": 8,
   "metadata": {},
   "outputs": [
    {
     "data": {
      "text/html": [
       "<div>\n",
       "<style scoped>\n",
       "    .dataframe tbody tr th:only-of-type {\n",
       "        vertical-align: middle;\n",
       "    }\n",
       "\n",
       "    .dataframe tbody tr th {\n",
       "        vertical-align: top;\n",
       "    }\n",
       "\n",
       "    .dataframe thead th {\n",
       "        text-align: right;\n",
       "    }\n",
       "</style>\n",
       "<table border=\"1\" class=\"dataframe\">\n",
       "  <thead>\n",
       "    <tr style=\"text-align: right;\">\n",
       "      <th></th>\n",
       "      <th>case_id</th>\n",
       "      <th>state</th>\n",
       "      <th>isMetro</th>\n",
       "      <th>areaname</th>\n",
       "      <th>county</th>\n",
       "      <th>family_member_count</th>\n",
       "      <th>housing_cost</th>\n",
       "      <th>food_cost</th>\n",
       "      <th>transportation_cost</th>\n",
       "      <th>healthcare_cost</th>\n",
       "      <th>other_necessities_cost</th>\n",
       "      <th>childcare_cost</th>\n",
       "      <th>taxes</th>\n",
       "      <th>total_cost</th>\n",
       "      <th>median_family_income</th>\n",
       "    </tr>\n",
       "  </thead>\n",
       "  <tbody>\n",
       "    <tr>\n",
       "      <th>0</th>\n",
       "      <td>1</td>\n",
       "      <td>AL</td>\n",
       "      <td>True</td>\n",
       "      <td>Montgomery, AL MSA</td>\n",
       "      <td>Autauga County</td>\n",
       "      <td>1p0c</td>\n",
       "      <td>8505.72876</td>\n",
       "      <td>3454.91712</td>\n",
       "      <td>10829.16876</td>\n",
       "      <td>5737.47984</td>\n",
       "      <td>4333.81344</td>\n",
       "      <td>0.0000</td>\n",
       "      <td>6392.94504</td>\n",
       "      <td>39254.0532</td>\n",
       "      <td>73010.414062</td>\n",
       "    </tr>\n",
       "    <tr>\n",
       "      <th>1</th>\n",
       "      <td>1</td>\n",
       "      <td>AL</td>\n",
       "      <td>True</td>\n",
       "      <td>Montgomery, AL MSA</td>\n",
       "      <td>Autauga County</td>\n",
       "      <td>1p1c</td>\n",
       "      <td>12067.50240</td>\n",
       "      <td>5091.70788</td>\n",
       "      <td>11588.19288</td>\n",
       "      <td>8659.55640</td>\n",
       "      <td>6217.45896</td>\n",
       "      <td>6147.8298</td>\n",
       "      <td>7422.07836</td>\n",
       "      <td>57194.3256</td>\n",
       "      <td>73010.414062</td>\n",
       "    </tr>\n",
       "    <tr>\n",
       "      <th>2</th>\n",
       "      <td>1</td>\n",
       "      <td>AL</td>\n",
       "      <td>True</td>\n",
       "      <td>Montgomery, AL MSA</td>\n",
       "      <td>Autauga County</td>\n",
       "      <td>1p2c</td>\n",
       "      <td>12067.50240</td>\n",
       "      <td>7460.20308</td>\n",
       "      <td>12361.77720</td>\n",
       "      <td>11581.63260</td>\n",
       "      <td>7075.65816</td>\n",
       "      <td>15824.6940</td>\n",
       "      <td>9769.56228</td>\n",
       "      <td>76141.0308</td>\n",
       "      <td>73010.414062</td>\n",
       "    </tr>\n",
       "    <tr>\n",
       "      <th>3</th>\n",
       "      <td>1</td>\n",
       "      <td>AL</td>\n",
       "      <td>True</td>\n",
       "      <td>Montgomery, AL MSA</td>\n",
       "      <td>Autauga County</td>\n",
       "      <td>1p3c</td>\n",
       "      <td>15257.15040</td>\n",
       "      <td>9952.23924</td>\n",
       "      <td>13452.18600</td>\n",
       "      <td>14503.70760</td>\n",
       "      <td>9134.35620</td>\n",
       "      <td>18802.1892</td>\n",
       "      <td>13101.70320</td>\n",
       "      <td>94203.5328</td>\n",
       "      <td>73010.414062</td>\n",
       "    </tr>\n",
       "    <tr>\n",
       "      <th>4</th>\n",
       "      <td>1</td>\n",
       "      <td>AL</td>\n",
       "      <td>True</td>\n",
       "      <td>Montgomery, AL MSA</td>\n",
       "      <td>Autauga County</td>\n",
       "      <td>1p4c</td>\n",
       "      <td>15257.15040</td>\n",
       "      <td>12182.21400</td>\n",
       "      <td>13744.59840</td>\n",
       "      <td>17425.78560</td>\n",
       "      <td>9942.36396</td>\n",
       "      <td>18802.1892</td>\n",
       "      <td>13469.21880</td>\n",
       "      <td>100823.5200</td>\n",
       "      <td>73010.414062</td>\n",
       "    </tr>\n",
       "  </tbody>\n",
       "</table>\n",
       "</div>"
      ],
      "text/plain": [
       "   case_id state  isMetro            areaname          county  \\\n",
       "0        1    AL     True  Montgomery, AL MSA  Autauga County   \n",
       "1        1    AL     True  Montgomery, AL MSA  Autauga County   \n",
       "2        1    AL     True  Montgomery, AL MSA  Autauga County   \n",
       "3        1    AL     True  Montgomery, AL MSA  Autauga County   \n",
       "4        1    AL     True  Montgomery, AL MSA  Autauga County   \n",
       "\n",
       "  family_member_count  housing_cost    food_cost  transportation_cost  \\\n",
       "0                1p0c    8505.72876   3454.91712          10829.16876   \n",
       "1                1p1c   12067.50240   5091.70788          11588.19288   \n",
       "2                1p2c   12067.50240   7460.20308          12361.77720   \n",
       "3                1p3c   15257.15040   9952.23924          13452.18600   \n",
       "4                1p4c   15257.15040  12182.21400          13744.59840   \n",
       "\n",
       "   healthcare_cost  other_necessities_cost  childcare_cost        taxes  \\\n",
       "0       5737.47984              4333.81344          0.0000   6392.94504   \n",
       "1       8659.55640              6217.45896       6147.8298   7422.07836   \n",
       "2      11581.63260              7075.65816      15824.6940   9769.56228   \n",
       "3      14503.70760              9134.35620      18802.1892  13101.70320   \n",
       "4      17425.78560              9942.36396      18802.1892  13469.21880   \n",
       "\n",
       "    total_cost  median_family_income  \n",
       "0   39254.0532          73010.414062  \n",
       "1   57194.3256          73010.414062  \n",
       "2   76141.0308          73010.414062  \n",
       "3   94203.5328          73010.414062  \n",
       "4  100823.5200          73010.414062  "
      ]
     },
     "execution_count": 8,
     "metadata": {},
     "output_type": "execute_result"
    }
   ],
   "source": [
    "import pandas as pd\n",
    "\n",
    "# Loading the CSV file\n",
    "cost_of_living_df = pd.read_csv('cost_of_living_us.csv')\n",
    "\n",
    "cost_of_living_df.head()\n"
   ]
  },
  {
   "cell_type": "markdown",
   "metadata": {
    "id": "hoUjq1tPzz7P"
   },
   "source": [
    "### Dataset 2\n",
    "\n",
    "I picked this dataset because it shows details about different cities, like how many people live there, their ages and their race. I downloaded the file manually because it was easier to get it from my computer to avoid any unnecessary complications down the road. The columns in this dataset provide details about city populations and demographics, such as age, gender, and race, which help us learn more about the people living in various cities.\n",
    "\n",
    "Type: CSV File\n",
    "\n",
    "Method: Manually downloading files\n",
    "\n",
    "Dataset variables:\n",
    "\n",
    "City,\n",
    "State,\n",
    "Median Age,\n",
    "Male Population,\n",
    "Female Population,\n",
    "Total Population,\n",
    "Number of Veterans,\n",
    "Foreign-born,\n",
    "Average Household Size,\n",
    "State Code,\n",
    "Race,\n",
    "Count"
   ]
  },
  {
   "cell_type": "code",
   "execution_count": 9,
   "metadata": {},
   "outputs": [
    {
     "data": {
      "text/html": [
       "<div>\n",
       "<style scoped>\n",
       "    .dataframe tbody tr th:only-of-type {\n",
       "        vertical-align: middle;\n",
       "    }\n",
       "\n",
       "    .dataframe tbody tr th {\n",
       "        vertical-align: top;\n",
       "    }\n",
       "\n",
       "    .dataframe thead th {\n",
       "        text-align: right;\n",
       "    }\n",
       "</style>\n",
       "<table border=\"1\" class=\"dataframe\">\n",
       "  <thead>\n",
       "    <tr style=\"text-align: right;\">\n",
       "      <th></th>\n",
       "      <th>City</th>\n",
       "      <th>State</th>\n",
       "      <th>Median Age</th>\n",
       "      <th>Male Population</th>\n",
       "      <th>Female Population</th>\n",
       "      <th>Total Population</th>\n",
       "      <th>Number of Veterans</th>\n",
       "      <th>Foreign-born</th>\n",
       "      <th>Average Household Size</th>\n",
       "      <th>State Code</th>\n",
       "      <th>Race</th>\n",
       "      <th>Count</th>\n",
       "    </tr>\n",
       "  </thead>\n",
       "  <tbody>\n",
       "    <tr>\n",
       "      <th>0</th>\n",
       "      <td>Framingham</td>\n",
       "      <td>Massachusetts</td>\n",
       "      <td>40.3</td>\n",
       "      <td>35442.0</td>\n",
       "      <td>35768.0</td>\n",
       "      <td>71210</td>\n",
       "      <td>2625.0</td>\n",
       "      <td>19070.0</td>\n",
       "      <td>2.49</td>\n",
       "      <td>MA</td>\n",
       "      <td>Black or African-American</td>\n",
       "      <td>6944</td>\n",
       "    </tr>\n",
       "    <tr>\n",
       "      <th>1</th>\n",
       "      <td>Waco</td>\n",
       "      <td>Texas</td>\n",
       "      <td>29.3</td>\n",
       "      <td>63452.0</td>\n",
       "      <td>68890.0</td>\n",
       "      <td>132342</td>\n",
       "      <td>10716.0</td>\n",
       "      <td>14235.0</td>\n",
       "      <td>2.57</td>\n",
       "      <td>TX</td>\n",
       "      <td>Asian</td>\n",
       "      <td>4230</td>\n",
       "    </tr>\n",
       "    <tr>\n",
       "      <th>2</th>\n",
       "      <td>Fort Worth</td>\n",
       "      <td>Texas</td>\n",
       "      <td>32.6</td>\n",
       "      <td>414126.0</td>\n",
       "      <td>422843.0</td>\n",
       "      <td>836969</td>\n",
       "      <td>39182.0</td>\n",
       "      <td>143404.0</td>\n",
       "      <td>2.88</td>\n",
       "      <td>TX</td>\n",
       "      <td>American Indian and Alaska Native</td>\n",
       "      <td>7504</td>\n",
       "    </tr>\n",
       "    <tr>\n",
       "      <th>3</th>\n",
       "      <td>Bellingham</td>\n",
       "      <td>Washington</td>\n",
       "      <td>30.7</td>\n",
       "      <td>41286.0</td>\n",
       "      <td>43857.0</td>\n",
       "      <td>85143</td>\n",
       "      <td>4703.0</td>\n",
       "      <td>8713.0</td>\n",
       "      <td>2.44</td>\n",
       "      <td>WA</td>\n",
       "      <td>American Indian and Alaska Native</td>\n",
       "      <td>2056</td>\n",
       "    </tr>\n",
       "    <tr>\n",
       "      <th>4</th>\n",
       "      <td>Maple Grove</td>\n",
       "      <td>Minnesota</td>\n",
       "      <td>38.6</td>\n",
       "      <td>31780.0</td>\n",
       "      <td>36601.0</td>\n",
       "      <td>68381</td>\n",
       "      <td>2943.0</td>\n",
       "      <td>7645.0</td>\n",
       "      <td>2.64</td>\n",
       "      <td>MN</td>\n",
       "      <td>White</td>\n",
       "      <td>59683</td>\n",
       "    </tr>\n",
       "  </tbody>\n",
       "</table>\n",
       "</div>"
      ],
      "text/plain": [
       "          City          State  Median Age  Male Population  Female Population  \\\n",
       "0   Framingham  Massachusetts        40.3          35442.0            35768.0   \n",
       "1         Waco          Texas        29.3          63452.0            68890.0   \n",
       "2   Fort Worth          Texas        32.6         414126.0           422843.0   \n",
       "3   Bellingham     Washington        30.7          41286.0            43857.0   \n",
       "4  Maple Grove      Minnesota        38.6          31780.0            36601.0   \n",
       "\n",
       "   Total Population  Number of Veterans  Foreign-born  Average Household Size  \\\n",
       "0             71210              2625.0       19070.0                    2.49   \n",
       "1            132342             10716.0       14235.0                    2.57   \n",
       "2            836969             39182.0      143404.0                    2.88   \n",
       "3             85143              4703.0        8713.0                    2.44   \n",
       "4             68381              2943.0        7645.0                    2.64   \n",
       "\n",
       "  State Code                               Race  Count  \n",
       "0         MA          Black or African-American   6944  \n",
       "1         TX                              Asian   4230  \n",
       "2         TX  American Indian and Alaska Native   7504  \n",
       "3         WA  American Indian and Alaska Native   2056  \n",
       "4         MN                              White  59683  "
      ]
     },
     "execution_count": 9,
     "metadata": {},
     "output_type": "execute_result"
    }
   ],
   "source": [
    "import zipfile\n",
    "import os\n",
    "import pandas as pd\n",
    "\n",
    "# Defining the path to the ZIP file and the extraction folder\n",
    "extracted_folder = 'extracted_files'\n",
    "\n",
    "# Creating the extraction folder\n",
    "os.makedirs(extracted_folder, exist_ok=True)\n",
    "\n",
    "# Extracting the file\n",
    "with zipfile.ZipFile('us-cities-demographics.csv.zip', 'r') as zip_ref:\n",
    "    zip_ref.extractall(extracted_folder) \n",
    "\n",
    "# Specifying the CSV file path\n",
    "csv_file_path = os.path.join(extracted_folder, 'us-cities-demographics.csv')\n",
    "\n",
    "# Reading the CSV file with the correct delimiter\n",
    "us_cities_df = pd.read_csv(csv_file_path, delimiter=';')\n",
    "\n",
    "us_cities_df.head()"
   ]
  },
  {
   "cell_type": "markdown",
   "metadata": {
    "id": "QwSWIVmotLgV"
   },
   "source": [
    "## 2. Assess data\n",
    "\n",
    "Assess the data according to data quality and tidiness metrics using the report below.\n",
    "\n",
    "List **two** data quality issues and **two** tidiness issues. Assess each data issue visually **and** programmatically, then briefly describe the issue you find.  **Make sure you include justifications for the methods you use for the assessment.**"
   ]
  },
  {
   "cell_type": "markdown",
   "metadata": {},
   "source": [
    "For the cost of living dataset, two quality issues are 1. incorrect data types, like 1p0c in the family_member_count column, and 2. null or missing values. Visually, you can see some values don’t make sense, such as non-numeric entries where numbers should be. Programmatically, you can use functions like .astype() to check and fix data types, and .isna().sum() to find missing values.\n",
    "\n",
    "For tidiness issues there are 1. inconsistent formatting in areaname and 2. unnecessary columns that may need to be removed. Visually, you can see inconsistent formats by checking how areaname is written. Programmatically, you can use string functions like .str.contains() to clean up formatting, and .drop() to remove extra columns.\n",
    "\n",
    "For the demographics dataset quality issues, there are 1. incorrect data types, like non-numeric values in Median Age, and 2. missing values. Visually, non-numeric values in a number column are easy to find, and missing values can be found by empty cells or blanks. Programmatically, you can use .astype() to fix data types and .isna().sum() to find missing values.\n",
    "\n",
    "For tidiness problems, 1. inconsistent formatting and 2. the need to aggregate columns like City and State. Visually, you can see formatting issues by checking how City and State are written. Programmatically, you can use .str.contains() to fix formatting and .groupby() to combine columns that need to be aggregated."
   ]
  },
  {
   "cell_type": "markdown",
   "metadata": {
    "id": "adaK2iPNzVu4"
   },
   "source": [
    "### Quality Issue 1: Missing Values (cost_of_living)"
   ]
  },
  {
   "cell_type": "code",
   "execution_count": 8,
   "metadata": {
    "id": "SpW59kh-zl8d",
    "scrolled": true
   },
   "outputs": [
    {
     "name": "stdout",
     "output_type": "stream",
     "text": [
      "   case_id state  isMetro            areaname          county  \\\n",
      "0        1    AL     True  Montgomery, AL MSA  Autauga County   \n",
      "1        1    AL     True  Montgomery, AL MSA  Autauga County   \n",
      "2        1    AL     True  Montgomery, AL MSA  Autauga County   \n",
      "3        1    AL     True  Montgomery, AL MSA  Autauga County   \n",
      "4        1    AL     True  Montgomery, AL MSA  Autauga County   \n",
      "5        1    AL     True  Montgomery, AL MSA  Autauga County   \n",
      "6        1    AL     True  Montgomery, AL MSA  Autauga County   \n",
      "7        1    AL     True  Montgomery, AL MSA  Autauga County   \n",
      "8        1    AL     True  Montgomery, AL MSA  Autauga County   \n",
      "9        1    AL     True  Montgomery, AL MSA  Autauga County   \n",
      "\n",
      "  family_member_count  housing_cost    food_cost  transportation_cost  \\\n",
      "0                1p0c    8505.72876   3454.91712          10829.16876   \n",
      "1                1p1c   12067.50240   5091.70788          11588.19288   \n",
      "2                1p2c   12067.50240   7460.20308          12361.77720   \n",
      "3                1p3c   15257.15040   9952.23924          13452.18600   \n",
      "4                1p4c   15257.15040  12182.21400          13744.59840   \n",
      "5                2p0c   10180.29420   6334.01436          12861.88680   \n",
      "6                2p1c   12067.50240   7883.31888          13589.11200   \n",
      "7                2p2c   12067.50240   9984.05268          14723.60760   \n",
      "8                2p3c   15257.15040  12189.77040          14994.60000   \n",
      "9                2p4c   15257.15040  14917.35840          15064.26360   \n",
      "\n",
      "   healthcare_cost  other_necessities_cost  childcare_cost        taxes  \\\n",
      "0       5737.47984              4333.81344          0.0000   6392.94504   \n",
      "1       8659.55640              6217.45896       6147.8298   7422.07836   \n",
      "2      11581.63260              7075.65816      15824.6940   9769.56228   \n",
      "3      14503.70760              9134.35620      18802.1892  13101.70320   \n",
      "4      17425.78560              9942.36396      18802.1892  13469.21880   \n",
      "5      11474.95968              5983.78524          0.0000   8236.73076   \n",
      "6      14397.03720              7228.96944       6147.8298   9459.90240   \n",
      "7      17319.11280              7990.14840      15824.6940  11168.75028   \n",
      "8      20241.18720              9945.10176      18802.1892  13210.14840   \n",
      "9      23163.26520             10933.41504      18802.1892  13417.21920   \n",
      "\n",
      "    total_cost  median_family_income  \n",
      "0   39254.0532          73010.414062  \n",
      "1   57194.3256          73010.414062  \n",
      "2   76141.0308          73010.414062  \n",
      "3   94203.5328          73010.414062  \n",
      "4  100823.5200          73010.414062  \n",
      "5   55071.6684          73010.414062  \n",
      "6   70773.6744          73010.414062  \n",
      "7   89077.8696          73010.414062  \n",
      "8  104640.1524          73010.414062  \n",
      "9  111554.8596          73010.414062  \n"
     ]
    }
   ],
   "source": [
    "# Visual inspection\n",
    "print(cost_of_living_df.head(10))"
   ]
  },
  {
   "cell_type": "code",
   "execution_count": 9,
   "metadata": {
    "id": "-qfcocStzsKg"
   },
   "outputs": [
    {
     "name": "stdout",
     "output_type": "stream",
     "text": [
      "case_id                    0\n",
      "state                      0\n",
      "isMetro                    0\n",
      "areaname                   0\n",
      "county                     0\n",
      "family_member_count        0\n",
      "housing_cost               0\n",
      "food_cost                  0\n",
      "transportation_cost        0\n",
      "healthcare_cost            0\n",
      "other_necessities_cost     0\n",
      "childcare_cost             0\n",
      "taxes                      0\n",
      "total_cost                 0\n",
      "median_family_income      10\n",
      "dtype: int64\n"
     ]
    }
   ],
   "source": [
    "# Visual inspection\n",
    "# Count missing values\n",
    "print(cost_of_living_df.isna().sum())"
   ]
  },
  {
   "cell_type": "markdown",
   "metadata": {},
   "source": [
    "Justification: Looking for missing values in the data can help me see if any important information is missing before I start analyzing."
   ]
  },
  {
   "cell_type": "markdown",
   "metadata": {
    "id": "8Be77N4I1AmE"
   },
   "source": [
    "### Quality Issue 2: Incorrect Datatype (us_cities)"
   ]
  },
  {
   "cell_type": "code",
   "execution_count": 14,
   "metadata": {
    "id": "iMhHyiyLM2I3",
    "scrolled": true
   },
   "outputs": [
    {
     "name": "stdout",
     "output_type": "stream",
     "text": [
      "          City          State  Median Age  Male Population  Female Population  \\\n",
      "0   Framingham  Massachusetts        40.3          35442.0            35768.0   \n",
      "1         Waco          Texas        29.3          63452.0            68890.0   \n",
      "2   Fort Worth          Texas        32.6         414126.0           422843.0   \n",
      "3   Bellingham     Washington        30.7          41286.0            43857.0   \n",
      "4  Maple Grove      Minnesota        38.6          31780.0            36601.0   \n",
      "5      Spokane     Washington        36.6         102756.0           110511.0   \n",
      "6     Torrance     California        41.2          73209.0            75259.0   \n",
      "7   Scottsdale        Arizona        46.9         115712.0           121132.0   \n",
      "8    San Diego     California        34.5         693826.0           701081.0   \n",
      "9  Centreville       Virginia        36.0          34749.0            37033.0   \n",
      "\n",
      "   Total Population  Number of Veterans  Foreign-born  Average Household Size  \\\n",
      "0             71210              2625.0       19070.0                    2.49   \n",
      "1            132342             10716.0       14235.0                    2.57   \n",
      "2            836969             39182.0      143404.0                    2.88   \n",
      "3             85143              4703.0        8713.0                    2.44   \n",
      "4             68381              2943.0        7645.0                    2.64   \n",
      "5            213267             18044.0       13253.0                    2.34   \n",
      "6            148468              8459.0       43096.0                    2.70   \n",
      "7            236844             16798.0       27207.0                    2.17   \n",
      "8           1394907             92489.0      373842.0                    2.73   \n",
      "9             71782              3779.0       27797.0                    2.97   \n",
      "\n",
      "  State Code                               Race   Count  \n",
      "0         MA          Black or African-American    6944  \n",
      "1         TX                              Asian    4230  \n",
      "2         TX  American Indian and Alaska Native    7504  \n",
      "3         WA  American Indian and Alaska Native    2056  \n",
      "4         MN                              White   59683  \n",
      "5         WA  American Indian and Alaska Native    7192  \n",
      "6         CA          Black or African-American    5906  \n",
      "7         AZ                              Asian   11555  \n",
      "8         CA                              White  949388  \n",
      "9         VA                              Asian   25058  \n"
     ]
    }
   ],
   "source": [
    "# Visual inspection\n",
    "print(us_cities_df.head(10))"
   ]
  },
  {
   "cell_type": "code",
   "execution_count": 13,
   "metadata": {
    "id": "bnviRCUI-bb7",
    "scrolled": true
   },
   "outputs": [
    {
     "name": "stdout",
     "output_type": "stream",
     "text": [
      "City                       0\n",
      "State                      0\n",
      "Median Age                 0\n",
      "Male Population            3\n",
      "Female Population          3\n",
      "Total Population           0\n",
      "Number of Veterans        13\n",
      "Foreign-born              13\n",
      "Average Household Size    16\n",
      "State Code                 0\n",
      "Race                       0\n",
      "Count                      0\n",
      "dtype: int64\n"
     ]
    }
   ],
   "source": [
    "# Visual inspection\n",
    "# Counting the missing values\n",
    "print(us_cities_df.isna().sum())"
   ]
  },
  {
   "cell_type": "markdown",
   "metadata": {},
   "source": [
    "Justification: Looking for missing values in the data can help me see if any important information is missing before I start analyzing."
   ]
  },
  {
   "cell_type": "markdown",
   "metadata": {
    "id": "lXhGiYyiwwKN"
   },
   "source": [
    "### Tidiness Issue 1: Need to Aggregate Columns (us_cities)"
   ]
  },
  {
   "cell_type": "code",
   "execution_count": 21,
   "metadata": {
    "id": "fleC5rORI0Xl",
    "scrolled": false
   },
   "outputs": [
    {
     "name": "stdout",
     "output_type": "stream",
     "text": [
      "          City          State  Median Age  Male Population  Female Population  \\\n",
      "0   Framingham  Massachusetts        40.3          35442.0            35768.0   \n",
      "1         Waco          Texas        29.3          63452.0            68890.0   \n",
      "2   Fort Worth          Texas        32.6         414126.0           422843.0   \n",
      "3   Bellingham     Washington        30.7          41286.0            43857.0   \n",
      "4  Maple Grove      Minnesota        38.6          31780.0            36601.0   \n",
      "5      Spokane     Washington        36.6         102756.0           110511.0   \n",
      "6     Torrance     California        41.2          73209.0            75259.0   \n",
      "7   Scottsdale        Arizona        46.9         115712.0           121132.0   \n",
      "8    San Diego     California        34.5         693826.0           701081.0   \n",
      "9  Centreville       Virginia        36.0          34749.0            37033.0   \n",
      "\n",
      "   Total Population  Number of Veterans  Foreign-born  Average Household Size  \\\n",
      "0             71210              2625.0       19070.0                    2.49   \n",
      "1            132342             10716.0       14235.0                    2.57   \n",
      "2            836969             39182.0      143404.0                    2.88   \n",
      "3             85143              4703.0        8713.0                    2.44   \n",
      "4             68381              2943.0        7645.0                    2.64   \n",
      "5            213267             18044.0       13253.0                    2.34   \n",
      "6            148468              8459.0       43096.0                    2.70   \n",
      "7            236844             16798.0       27207.0                    2.17   \n",
      "8           1394907             92489.0      373842.0                    2.73   \n",
      "9             71782              3779.0       27797.0                    2.97   \n",
      "\n",
      "  State Code                               Race   Count  \n",
      "0         MA          Black or African-American    6944  \n",
      "1         TX                              Asian    4230  \n",
      "2         TX  American Indian and Alaska Native    7504  \n",
      "3         WA  American Indian and Alaska Native    2056  \n",
      "4         MN                              White   59683  \n",
      "5         WA  American Indian and Alaska Native    7192  \n",
      "6         CA          Black or African-American    5906  \n",
      "7         AZ                              Asian   11555  \n",
      "8         CA                              White  949388  \n",
      "9         VA                              Asian   25058  \n"
     ]
    }
   ],
   "source": [
    "# Visual inspection\n",
    "print(us_cities_df.head(10))"
   ]
  },
  {
   "cell_type": "code",
   "execution_count": 22,
   "metadata": {
    "id": "BTuQw7Rbsio4"
   },
   "outputs": [
    {
     "name": "stdout",
     "output_type": "stream",
     "text": [
      "Index(['City', 'State', 'Median Age', 'Male Population', 'Female Population',\n",
      "       'Total Population', 'Number of Veterans', 'Foreign-born',\n",
      "       'Average Household Size', 'State Code', 'Race', 'Count'],\n",
      "      dtype='object')\n"
     ]
    }
   ],
   "source": [
    "# Programmatic inspection\n",
    "# Checking the DataFrame's columns\n",
    "print(us_cities_df.columns)"
   ]
  },
  {
   "cell_type": "markdown",
   "metadata": {},
   "source": [
    "Justification: Grouping rows and removing columns I don’t need keeps the data simple and easier to work with."
   ]
  },
  {
   "cell_type": "markdown",
   "metadata": {
    "id": "4ffMoRGSwzYj"
   },
   "source": [
    "### Tidiness Issue 2: Columns Need to be Aggregated (cost_of_living)"
   ]
  },
  {
   "cell_type": "code",
   "execution_count": 19,
   "metadata": {
    "id": "XUpeoqokw5Qt",
    "scrolled": true
   },
   "outputs": [
    {
     "name": "stdout",
     "output_type": "stream",
     "text": [
      "   case_id state  isMetro            areaname          county  \\\n",
      "0        1    AL     True  Montgomery, AL MSA  Autauga County   \n",
      "1        1    AL     True  Montgomery, AL MSA  Autauga County   \n",
      "2        1    AL     True  Montgomery, AL MSA  Autauga County   \n",
      "3        1    AL     True  Montgomery, AL MSA  Autauga County   \n",
      "4        1    AL     True  Montgomery, AL MSA  Autauga County   \n",
      "5        1    AL     True  Montgomery, AL MSA  Autauga County   \n",
      "6        1    AL     True  Montgomery, AL MSA  Autauga County   \n",
      "7        1    AL     True  Montgomery, AL MSA  Autauga County   \n",
      "8        1    AL     True  Montgomery, AL MSA  Autauga County   \n",
      "9        1    AL     True  Montgomery, AL MSA  Autauga County   \n",
      "\n",
      "  family_member_count  housing_cost    food_cost  transportation_cost  \\\n",
      "0                1p0c    8505.72876   3454.91712          10829.16876   \n",
      "1                1p1c   12067.50240   5091.70788          11588.19288   \n",
      "2                1p2c   12067.50240   7460.20308          12361.77720   \n",
      "3                1p3c   15257.15040   9952.23924          13452.18600   \n",
      "4                1p4c   15257.15040  12182.21400          13744.59840   \n",
      "5                2p0c   10180.29420   6334.01436          12861.88680   \n",
      "6                2p1c   12067.50240   7883.31888          13589.11200   \n",
      "7                2p2c   12067.50240   9984.05268          14723.60760   \n",
      "8                2p3c   15257.15040  12189.77040          14994.60000   \n",
      "9                2p4c   15257.15040  14917.35840          15064.26360   \n",
      "\n",
      "   healthcare_cost  other_necessities_cost  childcare_cost        taxes  \\\n",
      "0       5737.47984              4333.81344          0.0000   6392.94504   \n",
      "1       8659.55640              6217.45896       6147.8298   7422.07836   \n",
      "2      11581.63260              7075.65816      15824.6940   9769.56228   \n",
      "3      14503.70760              9134.35620      18802.1892  13101.70320   \n",
      "4      17425.78560              9942.36396      18802.1892  13469.21880   \n",
      "5      11474.95968              5983.78524          0.0000   8236.73076   \n",
      "6      14397.03720              7228.96944       6147.8298   9459.90240   \n",
      "7      17319.11280              7990.14840      15824.6940  11168.75028   \n",
      "8      20241.18720              9945.10176      18802.1892  13210.14840   \n",
      "9      23163.26520             10933.41504      18802.1892  13417.21920   \n",
      "\n",
      "    total_cost  median_family_income  \n",
      "0   39254.0532          73010.414062  \n",
      "1   57194.3256          73010.414062  \n",
      "2   76141.0308          73010.414062  \n",
      "3   94203.5328          73010.414062  \n",
      "4  100823.5200          73010.414062  \n",
      "5   55071.6684          73010.414062  \n",
      "6   70773.6744          73010.414062  \n",
      "7   89077.8696          73010.414062  \n",
      "8  104640.1524          73010.414062  \n",
      "9  111554.8596          73010.414062  \n"
     ]
    }
   ],
   "source": [
    "# Visual inspection\n",
    "print(cost_of_living_df.head(10))"
   ]
  },
  {
   "cell_type": "code",
   "execution_count": 20,
   "metadata": {
    "id": "c8JK4DoXxtFA"
   },
   "outputs": [
    {
     "name": "stdout",
     "output_type": "stream",
     "text": [
      "Index(['case_id', 'state', 'isMetro', 'areaname', 'county',\n",
      "       'family_member_count', 'housing_cost', 'food_cost',\n",
      "       'transportation_cost', 'healthcare_cost', 'other_necessities_cost',\n",
      "       'childcare_cost', 'taxes', 'total_cost', 'median_family_income'],\n",
      "      dtype='object')\n"
     ]
    }
   ],
   "source": [
    "# Programmatic inspection\n",
    "# Check DataFrame columns\n",
    "print(cost_of_living_df.columns)"
   ]
  },
  {
   "cell_type": "markdown",
   "metadata": {},
   "source": [
    "Justification: Grouping rows and removing columns I don’t need keeps the data simple and easier to work with."
   ]
  },
  {
   "cell_type": "markdown",
   "metadata": {
    "id": "D6gmLnBttpCh"
   },
   "source": [
    "## 3. Clean data\n",
    "Clean the data to solve the 4 issues corresponding to data quality and tidiness found in the assessing step. **Make sure you include justifications for your cleaning decisions.**\n",
    "\n",
    "After the cleaning for each issue, please use **either** the visually or programatical method to validate the cleaning was succesful.\n",
    "\n",
    "At this stage, you are also expected to remove variables that are unnecessary for your analysis and combine your datasets. Depending on your datasets, you may choose to perform variable combination and elimination before or after the cleaning stage. Your dataset must have **at least** 4 variables after combining the data."
   ]
  },
  {
   "cell_type": "code",
   "execution_count": 10,
   "metadata": {},
   "outputs": [],
   "source": [
    "# Making copies of the datasets to ensure the raw dataframes \n",
    "# are not impacted\n",
    "us_cities_copy = us_cities_df.copy()\n",
    "cost_of_living_copy = cost_of_living_df.copy()"
   ]
  },
  {
   "cell_type": "markdown",
   "metadata": {
    "id": "FmFhN52Yyn3l"
   },
   "source": [
    "### Quality Issue 1: Missing Values (cost_of_living)"
   ]
  },
  {
   "cell_type": "code",
   "execution_count": 11,
   "metadata": {
    "id": "9UejDWrNMW4a"
   },
   "outputs": [],
   "source": [
    "# Removing all missing values from the cost_of_living dataset\n",
    "cost_of_living_copy.dropna(inplace=True)"
   ]
  },
  {
   "cell_type": "code",
   "execution_count": 27,
   "metadata": {
    "id": "oUBee-LPytkv"
   },
   "outputs": [
    {
     "data": {
      "text/plain": [
       "case_id                    0\n",
       "state                      0\n",
       "isMetro                    0\n",
       "areaname                   0\n",
       "county                     0\n",
       "family_member_count        0\n",
       "housing_cost               0\n",
       "food_cost                  0\n",
       "transportation_cost        0\n",
       "healthcare_cost            0\n",
       "other_necessities_cost     0\n",
       "childcare_cost             0\n",
       "taxes                      0\n",
       "total_cost                 0\n",
       "median_family_income      10\n",
       "dtype: int64"
      ]
     },
     "execution_count": 27,
     "metadata": {},
     "output_type": "execute_result"
    }
   ],
   "source": [
    "cost_of_living_copy.isna().sum()"
   ]
  },
  {
   "cell_type": "markdown",
   "metadata": {},
   "source": [
    "Justification: dropna removes all of the rows that had null values identified in the assessing phase."
   ]
  },
  {
   "cell_type": "markdown",
   "metadata": {
    "id": "n_DAUbJrymBL"
   },
   "source": [
    "### Quality Issue 2: Missing values (us_cities)"
   ]
  },
  {
   "cell_type": "code",
   "execution_count": 12,
   "metadata": {
    "id": "5Yfb-Yu5MTuE"
   },
   "outputs": [],
   "source": [
    "# Removing all missing values from the us_cities dataset\n",
    "us_cities_copy.dropna(inplace=True)"
   ]
  },
  {
   "cell_type": "code",
   "execution_count": 26,
   "metadata": {
    "id": "ionB2sRaMUmY"
   },
   "outputs": [
    {
     "data": {
      "text/plain": [
       "City                       0\n",
       "State                      0\n",
       "Median Age                 0\n",
       "Male Population            3\n",
       "Female Population          3\n",
       "Total Population           0\n",
       "Number of Veterans        13\n",
       "Foreign-born              13\n",
       "Average Household Size    16\n",
       "State Code                 0\n",
       "Race                       0\n",
       "Count                      0\n",
       "dtype: int64"
      ]
     },
     "execution_count": 26,
     "metadata": {},
     "output_type": "execute_result"
    }
   ],
   "source": [
    "# Validation\n",
    "us_cities_copy.isna().sum()"
   ]
  },
  {
   "cell_type": "markdown",
   "metadata": {},
   "source": [
    "Justification: dropna removes all of the rows that had null values identified in the assessing phase."
   ]
  },
  {
   "cell_type": "markdown",
   "metadata": {
    "id": "bIUrrfSNyOPR"
   },
   "source": [
    "### Tidiness Issue 1: Need to Aggregate Columns (us_cities)"
   ]
  },
  {
   "cell_type": "code",
   "execution_count": 13,
   "metadata": {
    "id": "fib0zAm333bn"
   },
   "outputs": [],
   "source": [
    "# Aggregating by state code\n",
    "us_cities_aggregated = us_cities_copy.groupby('State Code').agg({\n",
    "    'Median Age': 'mean',\n",
    "    'Male Population': 'sum',\n",
    "    'Female Population': 'sum',\n",
    "    'Total Population': 'sum',\n",
    "    'Number of Veterans': 'sum',\n",
    "    'Foreign-born': 'sum',\n",
    "    'Average Household Size': 'mean',\n",
    "    'Count': 'sum'\n",
    "}).reset_index()"
   ]
  },
  {
   "cell_type": "code",
   "execution_count": 14,
   "metadata": {
    "id": "yhrnUGY_Nk8B"
   },
   "outputs": [
    {
     "data": {
      "text/html": [
       "<div>\n",
       "<style scoped>\n",
       "    .dataframe tbody tr th:only-of-type {\n",
       "        vertical-align: middle;\n",
       "    }\n",
       "\n",
       "    .dataframe tbody tr th {\n",
       "        vertical-align: top;\n",
       "    }\n",
       "\n",
       "    .dataframe thead th {\n",
       "        text-align: right;\n",
       "    }\n",
       "</style>\n",
       "<table border=\"1\" class=\"dataframe\">\n",
       "  <thead>\n",
       "    <tr style=\"text-align: right;\">\n",
       "      <th></th>\n",
       "      <th>State Code</th>\n",
       "      <th>Median Age</th>\n",
       "      <th>Male Population</th>\n",
       "      <th>Female Population</th>\n",
       "      <th>Total Population</th>\n",
       "      <th>Number of Veterans</th>\n",
       "      <th>Foreign-born</th>\n",
       "      <th>Average Household Size</th>\n",
       "      <th>Count</th>\n",
       "    </tr>\n",
       "  </thead>\n",
       "  <tbody>\n",
       "    <tr>\n",
       "      <th>0</th>\n",
       "      <td>AK</td>\n",
       "      <td>32.200000</td>\n",
       "      <td>764725.0</td>\n",
       "      <td>728750.0</td>\n",
       "      <td>1493475</td>\n",
       "      <td>137460.0</td>\n",
       "      <td>166290.0</td>\n",
       "      <td>2.770000</td>\n",
       "      <td>336228</td>\n",
       "    </tr>\n",
       "    <tr>\n",
       "      <th>1</th>\n",
       "      <td>AL</td>\n",
       "      <td>36.161765</td>\n",
       "      <td>2448200.0</td>\n",
       "      <td>2715106.0</td>\n",
       "      <td>5163306</td>\n",
       "      <td>352896.0</td>\n",
       "      <td>252541.0</td>\n",
       "      <td>2.430000</td>\n",
       "      <td>1096154</td>\n",
       "    </tr>\n",
       "    <tr>\n",
       "      <th>2</th>\n",
       "      <td>AR</td>\n",
       "      <td>32.737931</td>\n",
       "      <td>1400724.0</td>\n",
       "      <td>1482165.0</td>\n",
       "      <td>2882889</td>\n",
       "      <td>154390.0</td>\n",
       "      <td>307753.0</td>\n",
       "      <td>2.526897</td>\n",
       "      <td>643597</td>\n",
       "    </tr>\n",
       "    <tr>\n",
       "      <th>3</th>\n",
       "      <td>AZ</td>\n",
       "      <td>35.037500</td>\n",
       "      <td>11137275.0</td>\n",
       "      <td>11360435.0</td>\n",
       "      <td>22497710</td>\n",
       "      <td>1322525.0</td>\n",
       "      <td>3411565.0</td>\n",
       "      <td>2.774375</td>\n",
       "      <td>5754881</td>\n",
       "    </tr>\n",
       "    <tr>\n",
       "      <th>4</th>\n",
       "      <td>CA</td>\n",
       "      <td>36.173964</td>\n",
       "      <td>61055672.0</td>\n",
       "      <td>62388681.0</td>\n",
       "      <td>123444353</td>\n",
       "      <td>4617022.0</td>\n",
       "      <td>37059662.0</td>\n",
       "      <td>3.095325</td>\n",
       "      <td>31753718</td>\n",
       "    </tr>\n",
       "  </tbody>\n",
       "</table>\n",
       "</div>"
      ],
      "text/plain": [
       "  State Code  Median Age  Male Population  Female Population  \\\n",
       "0         AK   32.200000         764725.0           728750.0   \n",
       "1         AL   36.161765        2448200.0          2715106.0   \n",
       "2         AR   32.737931        1400724.0          1482165.0   \n",
       "3         AZ   35.037500       11137275.0         11360435.0   \n",
       "4         CA   36.173964       61055672.0         62388681.0   \n",
       "\n",
       "   Total Population  Number of Veterans  Foreign-born  Average Household Size  \\\n",
       "0           1493475            137460.0      166290.0                2.770000   \n",
       "1           5163306            352896.0      252541.0                2.430000   \n",
       "2           2882889            154390.0      307753.0                2.526897   \n",
       "3          22497710           1322525.0     3411565.0                2.774375   \n",
       "4         123444353           4617022.0    37059662.0                3.095325   \n",
       "\n",
       "      Count  \n",
       "0    336228  \n",
       "1   1096154  \n",
       "2    643597  \n",
       "3   5754881  \n",
       "4  31753718  "
      ]
     },
     "execution_count": 14,
     "metadata": {},
     "output_type": "execute_result"
    }
   ],
   "source": [
    "# Validation\n",
    "us_cities_aggregated.head()"
   ]
  },
  {
   "cell_type": "markdown",
   "metadata": {},
   "source": [
    "Justification: Combining data by state code makes it simpler to analyze and removes unnecessary rows."
   ]
  },
  {
   "cell_type": "markdown",
   "metadata": {
    "id": "o51Bt8kwyTzk"
   },
   "source": [
    "### Tidiness Issue 2: Need to Aggregate Columns (cost_of_living)"
   ]
  },
  {
   "cell_type": "code",
   "execution_count": 15,
   "metadata": {
    "id": "7zW8O5yx4Y9O"
   },
   "outputs": [],
   "source": [
    "# Aggregating by state\n",
    "cost_of_living_aggregated = cost_of_living_copy.groupby('state').agg({\n",
    "    'housing_cost': 'mean',\n",
    "    'food_cost': 'mean',\n",
    "    'transportation_cost': 'mean',\n",
    "    'healthcare_cost': 'mean',\n",
    "    'other_necessities_cost': 'mean',\n",
    "    'childcare_cost': 'mean',\n",
    "    'taxes': 'mean',\n",
    "    'total_cost': 'mean',\n",
    "    'median_family_income': 'mean'\n",
    "}).reset_index()"
   ]
  },
  {
   "cell_type": "code",
   "execution_count": 16,
   "metadata": {
    "id": "q6I_Sr7lxXi5"
   },
   "outputs": [
    {
     "data": {
      "text/html": [
       "<div>\n",
       "<style scoped>\n",
       "    .dataframe tbody tr th:only-of-type {\n",
       "        vertical-align: middle;\n",
       "    }\n",
       "\n",
       "    .dataframe tbody tr th {\n",
       "        vertical-align: top;\n",
       "    }\n",
       "\n",
       "    .dataframe thead th {\n",
       "        text-align: right;\n",
       "    }\n",
       "</style>\n",
       "<table border=\"1\" class=\"dataframe\">\n",
       "  <thead>\n",
       "    <tr style=\"text-align: right;\">\n",
       "      <th></th>\n",
       "      <th>state</th>\n",
       "      <th>housing_cost</th>\n",
       "      <th>food_cost</th>\n",
       "      <th>transportation_cost</th>\n",
       "      <th>healthcare_cost</th>\n",
       "      <th>other_necessities_cost</th>\n",
       "      <th>childcare_cost</th>\n",
       "      <th>taxes</th>\n",
       "      <th>total_cost</th>\n",
       "      <th>median_family_income</th>\n",
       "    </tr>\n",
       "  </thead>\n",
       "  <tbody>\n",
       "    <tr>\n",
       "      <th>0</th>\n",
       "      <td>AK</td>\n",
       "      <td>15520.427586</td>\n",
       "      <td>8694.782041</td>\n",
       "      <td>12361.720750</td>\n",
       "      <td>15641.815574</td>\n",
       "      <td>8774.125398</td>\n",
       "      <td>15194.391719</td>\n",
       "      <td>9047.294052</td>\n",
       "      <td>85234.557360</td>\n",
       "      <td>81242.831358</td>\n",
       "    </tr>\n",
       "    <tr>\n",
       "      <th>1</th>\n",
       "      <td>AL</td>\n",
       "      <td>9181.392518</td>\n",
       "      <td>8480.711293</td>\n",
       "      <td>13141.568890</td>\n",
       "      <td>14236.294295</td>\n",
       "      <td>6399.676771</td>\n",
       "      <td>9552.574830</td>\n",
       "      <td>7975.351473</td>\n",
       "      <td>68967.570020</td>\n",
       "      <td>58099.871502</td>\n",
       "    </tr>\n",
       "    <tr>\n",
       "      <th>2</th>\n",
       "      <td>AR</td>\n",
       "      <td>8886.487749</td>\n",
       "      <td>7788.489356</td>\n",
       "      <td>13131.927386</td>\n",
       "      <td>12038.511863</td>\n",
       "      <td>6042.001845</td>\n",
       "      <td>7732.104276</td>\n",
       "      <td>5872.369266</td>\n",
       "      <td>61491.891851</td>\n",
       "      <td>55025.567812</td>\n",
       "    </tr>\n",
       "    <tr>\n",
       "      <th>3</th>\n",
       "      <td>AZ</td>\n",
       "      <td>12793.910734</td>\n",
       "      <td>8146.288516</td>\n",
       "      <td>13479.581414</td>\n",
       "      <td>14532.482911</td>\n",
       "      <td>7587.459998</td>\n",
       "      <td>11314.893078</td>\n",
       "      <td>8131.322522</td>\n",
       "      <td>75985.939376</td>\n",
       "      <td>59661.879167</td>\n",
       "    </tr>\n",
       "    <tr>\n",
       "      <th>4</th>\n",
       "      <td>CA</td>\n",
       "      <td>20232.487360</td>\n",
       "      <td>9673.952906</td>\n",
       "      <td>14740.170922</td>\n",
       "      <td>14221.493600</td>\n",
       "      <td>10836.282740</td>\n",
       "      <td>10761.334636</td>\n",
       "      <td>12713.440853</td>\n",
       "      <td>93179.163060</td>\n",
       "      <td>82922.169248</td>\n",
       "    </tr>\n",
       "  </tbody>\n",
       "</table>\n",
       "</div>"
      ],
      "text/plain": [
       "  state  housing_cost    food_cost  transportation_cost  healthcare_cost  \\\n",
       "0    AK  15520.427586  8694.782041         12361.720750     15641.815574   \n",
       "1    AL   9181.392518  8480.711293         13141.568890     14236.294295   \n",
       "2    AR   8886.487749  7788.489356         13131.927386     12038.511863   \n",
       "3    AZ  12793.910734  8146.288516         13479.581414     14532.482911   \n",
       "4    CA  20232.487360  9673.952906         14740.170922     14221.493600   \n",
       "\n",
       "   other_necessities_cost  childcare_cost         taxes    total_cost  \\\n",
       "0             8774.125398    15194.391719   9047.294052  85234.557360   \n",
       "1             6399.676771     9552.574830   7975.351473  68967.570020   \n",
       "2             6042.001845     7732.104276   5872.369266  61491.891851   \n",
       "3             7587.459998    11314.893078   8131.322522  75985.939376   \n",
       "4            10836.282740    10761.334636  12713.440853  93179.163060   \n",
       "\n",
       "   median_family_income  \n",
       "0          81242.831358  \n",
       "1          58099.871502  \n",
       "2          55025.567812  \n",
       "3          59661.879167  \n",
       "4          82922.169248  "
      ]
     },
     "execution_count": 16,
     "metadata": {},
     "output_type": "execute_result"
    }
   ],
   "source": [
    "# Validation\n",
    "cost_of_living_aggregated.head()"
   ]
  },
  {
   "cell_type": "markdown",
   "metadata": {},
   "source": [
    "Justification: Combining data by state makes it simpler to analyze and removes unnecessary rows."
   ]
  },
  {
   "cell_type": "markdown",
   "metadata": {},
   "source": [
    "### **Remove unnecessary variables and combine datasets**\n",
    "\n",
    "Depending on the datasets, you can also peform the combination before the cleaning steps."
   ]
  },
  {
   "cell_type": "code",
   "execution_count": 17,
   "metadata": {},
   "outputs": [
    {
     "data": {
      "text/html": [
       "<div>\n",
       "<style scoped>\n",
       "    .dataframe tbody tr th:only-of-type {\n",
       "        vertical-align: middle;\n",
       "    }\n",
       "\n",
       "    .dataframe tbody tr th {\n",
       "        vertical-align: top;\n",
       "    }\n",
       "\n",
       "    .dataframe thead th {\n",
       "        text-align: right;\n",
       "    }\n",
       "</style>\n",
       "<table border=\"1\" class=\"dataframe\">\n",
       "  <thead>\n",
       "    <tr style=\"text-align: right;\">\n",
       "      <th></th>\n",
       "      <th>state</th>\n",
       "      <th>housing_cost</th>\n",
       "      <th>food_cost</th>\n",
       "      <th>transportation_cost</th>\n",
       "      <th>healthcare_cost</th>\n",
       "      <th>other_necessities_cost</th>\n",
       "      <th>childcare_cost</th>\n",
       "      <th>taxes</th>\n",
       "      <th>total_cost</th>\n",
       "      <th>median_family_income</th>\n",
       "      <th>...</th>\n",
       "      <th>Median Age</th>\n",
       "      <th>Male Population</th>\n",
       "      <th>Female Population</th>\n",
       "      <th>Total Population</th>\n",
       "      <th>Number of Veterans</th>\n",
       "      <th>Foreign-born</th>\n",
       "      <th>Average Household Size</th>\n",
       "      <th>State Code</th>\n",
       "      <th>Race</th>\n",
       "      <th>Count</th>\n",
       "    </tr>\n",
       "  </thead>\n",
       "  <tbody>\n",
       "    <tr>\n",
       "      <th>0</th>\n",
       "      <td>AL</td>\n",
       "      <td>8505.72876</td>\n",
       "      <td>3454.91712</td>\n",
       "      <td>10829.16876</td>\n",
       "      <td>5737.47984</td>\n",
       "      <td>4333.81344</td>\n",
       "      <td>0.0</td>\n",
       "      <td>6392.94504</td>\n",
       "      <td>39254.0532</td>\n",
       "      <td>73010.414062</td>\n",
       "      <td>...</td>\n",
       "      <td>29.1</td>\n",
       "      <td>47293.0</td>\n",
       "      <td>51045.0</td>\n",
       "      <td>98338</td>\n",
       "      <td>3647.0</td>\n",
       "      <td>4706.0</td>\n",
       "      <td>2.67</td>\n",
       "      <td>AL</td>\n",
       "      <td>Asian</td>\n",
       "      <td>2733</td>\n",
       "    </tr>\n",
       "    <tr>\n",
       "      <th>1</th>\n",
       "      <td>AL</td>\n",
       "      <td>8505.72876</td>\n",
       "      <td>3454.91712</td>\n",
       "      <td>10829.16876</td>\n",
       "      <td>5737.47984</td>\n",
       "      <td>4333.81344</td>\n",
       "      <td>0.0</td>\n",
       "      <td>6392.94504</td>\n",
       "      <td>39254.0532</td>\n",
       "      <td>73010.414062</td>\n",
       "      <td>...</td>\n",
       "      <td>35.6</td>\n",
       "      <td>102122.0</td>\n",
       "      <td>112789.0</td>\n",
       "      <td>214911</td>\n",
       "      <td>13212.0</td>\n",
       "      <td>8258.0</td>\n",
       "      <td>2.21</td>\n",
       "      <td>AL</td>\n",
       "      <td>Asian</td>\n",
       "      <td>1500</td>\n",
       "    </tr>\n",
       "    <tr>\n",
       "      <th>2</th>\n",
       "      <td>AL</td>\n",
       "      <td>8505.72876</td>\n",
       "      <td>3454.91712</td>\n",
       "      <td>10829.16876</td>\n",
       "      <td>5737.47984</td>\n",
       "      <td>4333.81344</td>\n",
       "      <td>0.0</td>\n",
       "      <td>6392.94504</td>\n",
       "      <td>39254.0532</td>\n",
       "      <td>73010.414062</td>\n",
       "      <td>...</td>\n",
       "      <td>38.1</td>\n",
       "      <td>91764.0</td>\n",
       "      <td>97350.0</td>\n",
       "      <td>189114</td>\n",
       "      <td>16637.0</td>\n",
       "      <td>12691.0</td>\n",
       "      <td>2.18</td>\n",
       "      <td>AL</td>\n",
       "      <td>Black or African-American</td>\n",
       "      <td>61561</td>\n",
       "    </tr>\n",
       "    <tr>\n",
       "      <th>3</th>\n",
       "      <td>AL</td>\n",
       "      <td>8505.72876</td>\n",
       "      <td>3454.91712</td>\n",
       "      <td>10829.16876</td>\n",
       "      <td>5737.47984</td>\n",
       "      <td>4333.81344</td>\n",
       "      <td>0.0</td>\n",
       "      <td>6392.94504</td>\n",
       "      <td>39254.0532</td>\n",
       "      <td>73010.414062</td>\n",
       "      <td>...</td>\n",
       "      <td>35.6</td>\n",
       "      <td>102122.0</td>\n",
       "      <td>112789.0</td>\n",
       "      <td>214911</td>\n",
       "      <td>13212.0</td>\n",
       "      <td>8258.0</td>\n",
       "      <td>2.21</td>\n",
       "      <td>AL</td>\n",
       "      <td>White</td>\n",
       "      <td>51728</td>\n",
       "    </tr>\n",
       "    <tr>\n",
       "      <th>4</th>\n",
       "      <td>AL</td>\n",
       "      <td>8505.72876</td>\n",
       "      <td>3454.91712</td>\n",
       "      <td>10829.16876</td>\n",
       "      <td>5737.47984</td>\n",
       "      <td>4333.81344</td>\n",
       "      <td>0.0</td>\n",
       "      <td>6392.94504</td>\n",
       "      <td>39254.0532</td>\n",
       "      <td>73010.414062</td>\n",
       "      <td>...</td>\n",
       "      <td>38.9</td>\n",
       "      <td>32172.0</td>\n",
       "      <td>35364.0</td>\n",
       "      <td>67536</td>\n",
       "      <td>6334.0</td>\n",
       "      <td>1699.0</td>\n",
       "      <td>2.59</td>\n",
       "      <td>AL</td>\n",
       "      <td>Asian</td>\n",
       "      <td>1175</td>\n",
       "    </tr>\n",
       "  </tbody>\n",
       "</table>\n",
       "<p>5 rows × 21 columns</p>\n",
       "</div>"
      ],
      "text/plain": [
       "  state  housing_cost   food_cost  transportation_cost  healthcare_cost  \\\n",
       "0    AL    8505.72876  3454.91712          10829.16876       5737.47984   \n",
       "1    AL    8505.72876  3454.91712          10829.16876       5737.47984   \n",
       "2    AL    8505.72876  3454.91712          10829.16876       5737.47984   \n",
       "3    AL    8505.72876  3454.91712          10829.16876       5737.47984   \n",
       "4    AL    8505.72876  3454.91712          10829.16876       5737.47984   \n",
       "\n",
       "   other_necessities_cost  childcare_cost       taxes  total_cost  \\\n",
       "0              4333.81344             0.0  6392.94504  39254.0532   \n",
       "1              4333.81344             0.0  6392.94504  39254.0532   \n",
       "2              4333.81344             0.0  6392.94504  39254.0532   \n",
       "3              4333.81344             0.0  6392.94504  39254.0532   \n",
       "4              4333.81344             0.0  6392.94504  39254.0532   \n",
       "\n",
       "   median_family_income  ... Median Age  Male Population  Female Population  \\\n",
       "0          73010.414062  ...       29.1          47293.0            51045.0   \n",
       "1          73010.414062  ...       35.6         102122.0           112789.0   \n",
       "2          73010.414062  ...       38.1          91764.0            97350.0   \n",
       "3          73010.414062  ...       35.6         102122.0           112789.0   \n",
       "4          73010.414062  ...       38.9          32172.0            35364.0   \n",
       "\n",
       "   Total Population  Number of Veterans  Foreign-born  Average Household Size  \\\n",
       "0             98338              3647.0        4706.0                    2.67   \n",
       "1            214911             13212.0        8258.0                    2.21   \n",
       "2            189114             16637.0       12691.0                    2.18   \n",
       "3            214911             13212.0        8258.0                    2.21   \n",
       "4             67536              6334.0        1699.0                    2.59   \n",
       "\n",
       "   State Code                       Race  Count  \n",
       "0          AL                      Asian   2733  \n",
       "1          AL                      Asian   1500  \n",
       "2          AL  Black or African-American  61561  \n",
       "3          AL                      White  51728  \n",
       "4          AL                      Asian   1175  \n",
       "\n",
       "[5 rows x 21 columns]"
      ]
     },
     "execution_count": 17,
     "metadata": {},
     "output_type": "execute_result"
    }
   ],
   "source": [
    "# Removing unnecessary variables from each dataset\n",
    "cost_of_living_cleaned = cost_of_living_copy.drop(columns=['areaname', 'family_member_count', 'case_id', 'isMetro', 'county'])\n",
    "us_cities_cleaned = us_cities_copy.drop(columns=['City'])\n",
    "\n",
    "# Merging the datasets on the state columns\n",
    "combined_df = pd.merge(cost_of_living_cleaned, us_cities_cleaned, left_on='state', right_on='State Code')\n",
    "\n",
    "# Validation\n",
    "combined_df.head()"
   ]
  },
  {
   "cell_type": "markdown",
   "metadata": {
    "id": "F42urHuzttjF"
   },
   "source": [
    "## 4. Update your data store\n",
    "Update your local database/data store with the cleaned data, following best practices for storing your cleaned data:\n",
    "\n",
    "- Must maintain different instances / versions of data (raw and cleaned data)\n",
    "- Must name the dataset files informatively\n",
    "- Ensure both the raw and cleaned data is saved to your database/data store"
   ]
  },
  {
   "cell_type": "code",
   "execution_count": 18,
   "metadata": {
    "id": "V3uay7EJUV_L"
   },
   "outputs": [],
   "source": [
    "# Saving the raw data\n",
    "cost_of_living_copy.to_csv('cost_of_living_raw.csv', index=False)\n",
    "us_cities_copy.to_csv('us_cities_raw.csv', index=False)\n",
    "\n",
    "# Saving the cleaned data\n",
    "cost_of_living_cleaned.to_csv('cost_of_living_cleaned.csv', index=False)\n",
    "us_cities_cleaned.to_csv('us_cities_cleaned.csv', index=False)"
   ]
  },
  {
   "cell_type": "markdown",
   "metadata": {
    "id": "cGy_yddGtzhM"
   },
   "source": [
    "## 5. Answer the research question\n",
    "\n",
    "### **5.1:** Define and answer the research question \n",
    "Going back to the problem statement in step 1, use the cleaned data to answer the question you raised. Produce **at least** two visualizations using the cleaned data and explain how they help you answer the question."
   ]
  },
  {
   "cell_type": "markdown",
   "metadata": {
    "id": "gjedE4s4ZkEd"
   },
   "source": [
    "*Research question:* What is the relationship between total cost of living and demographics like age, average household size, etc?"
   ]
  },
  {
   "cell_type": "code",
   "execution_count": 34,
   "metadata": {
    "id": "Lkw3rW9kZmOm"
   },
   "outputs": [
    {
     "data": {
      "image/png": "[encoded data removed]",
      "text/plain": [
       "<Figure size 1200x600 with 1 Axes>"
      ]
     },
     "metadata": {},
     "output_type": "display_data"
    }
   ],
   "source": [
    "import matplotlib.pyplot as plt\n",
    "\n",
    "# Calculating the average total cost of living by average household size\n",
    "average_cost_by_household_size = combined_df.groupby('Average Household Size')['total_cost'].mean()\n",
    "\n",
    "# Plotting the results\n",
    "plt.figure(figsize=(12, 6))\n",
    "ax = average_cost_by_household_size.plot(kind='bar', color='lightblue')\n",
    "plt.title('Average Total Cost of Living by Average Household Size')\n",
    "plt.xlabel('Average Household Size')\n",
    "plt.ylabel('Average Total Cost of Living')\n",
    "\n",
    "# Reducing the number of x-axis labels\n",
    "labels = [label.get_text() for label in ax.get_xticklabels()]\n",
    "num_labels = len(labels)\n",
    "interval = max(1, num_labels // 10)  # Show up to 10 labels\n",
    "\n",
    "# Setting x-axis labels\n",
    "ax.set_xticks(ax.get_xticks()[::interval])\n",
    "ax.set_xticklabels(labels[::interval], rotation=90, fontsize=10)\n",
    "\n",
    "plt.grid(axis='y')\n",
    "plt.show()"
   ]
  },
  {
   "cell_type": "markdown",
   "metadata": {},
   "source": [
    "*Answer to research question: This bar chart shows how the average cost of living correlates with different average household sizes. You can see if households with less or more people tend to live in states with higher or lower costs of living."
   ]
  },
  {
   "cell_type": "code",
   "execution_count": 33,
   "metadata": {
    "id": "6fdK_8ZGZm9R",
    "scrolled": true
   },
   "outputs": [
    {
     "data": {
      "image/png": "[encoded data removed]",
      "text/plain": [
       "<Figure size 1200x600 with 1 Axes>"
      ]
     },
     "metadata": {},
     "output_type": "display_data"
    }
   ],
   "source": [
    "import matplotlib.pyplot as plt\n",
    "\n",
    "# Calculating the average total cost of living by median age\n",
    "average_cost_by_age = combined_df.groupby('Median Age')['total_cost'].mean()\n",
    "\n",
    "# Plotting the results\n",
    "plt.figure(figsize=(12, 6))\n",
    "ax = average_cost_by_age.plot(kind='bar', color='lightcoral')\n",
    "plt.title('Average Total Cost of Living by Median Age')\n",
    "plt.xlabel('Median Age')\n",
    "plt.ylabel('Average Total Cost of Living')\n",
    "\n",
    "# Reducing the number of x-axis labels\n",
    "labels = [label.get_text() for label in ax.get_xticklabels()]\n",
    "num_labels = len(labels)\n",
    "interval = max(1, num_labels // 10)  # Show up to 10 labels\n",
    "\n",
    "# Setting x-axis labels with a subset\n",
    "ax.set_xticks(ax.get_xticks()[::interval])\n",
    "ax.set_xticklabels(labels[::interval], rotation=90, fontsize=10)\n",
    "\n",
    "plt.grid(axis='y')\n",
    "plt.show()\n"
   ]
  },
  {
   "cell_type": "markdown",
   "metadata": {
    "id": "K5RgvMGUZoHn"
   },
   "source": [
    "*Answer to research question: This bar chart shows how the average cost of living relates to the median age. With this, you can see if there is any correlation between states with higher or lower costs of living, and the ages of the people who live there."
   ]
  },
  {
   "cell_type": "markdown",
   "metadata": {
    "id": "0ezWXXZVj-TP"
   },
   "source": [
    "### **5.2:** Reflection\n",
    "In 2-4 sentences, if you had more time to complete the project, what actions would you take? For example, which data quality and structural issues would you look into further, and what research questions would you further explore?"
   ]
  },
  {
   "cell_type": "markdown",
   "metadata": {
    "id": "XB3RBDG5kFe1"
   },
   "source": [
    "*Answer: If I had more time to look further into the data, I would create different types of visualizations to see some more of the realtionships between the demographics of a state and its cost of living. I would be interested to see if there was a correlation between high or low costs of living and race. I would also take more time with the data and extrac citiy values from the area name variable in the cost of living table. That way I can see more pecific insights on city-level metrics."
   ]
  },
  {
   "cell_type": "code",
   "execution_count": null,
   "metadata": {},
   "outputs": [],
   "source": []
  }
 ],
 "metadata": {
  "colab": {
   "provenance": []
  },
  "kernelspec": {
   "display_name": "Python 3 (ipykernel)",
   "language": "python",
   "name": "python3"
  },
  "language_info": {
   "codemirror_mode": {
    "name": "ipython",
    "version": 3
   },
   "file_extension": ".py",
   "mimetype": "text/x-python",
   "name": "python",
   "nbconvert_exporter": "python",
   "pygments_lexer": "ipython3",
   "version": "3.10.11"
  }
 },
 "nbformat": 4,
 "nbformat_minor": 1
}
